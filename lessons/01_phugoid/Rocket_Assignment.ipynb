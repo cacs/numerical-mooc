{
 "metadata": {
  "name": "",
  "signature": "sha256:acdd559cd9549c05b059ddfce04fed4421c1801ea7461a2ff5316d789c1eeb23"
 },
 "nbformat": 3,
 "nbformat_minor": 0,
 "worksheets": [
  {
   "cells": [
    {
     "cell_type": "heading",
     "level": 6,
     "metadata": {},
     "source": [
      "Content under Creative Commons Attribution license CC-BY 4.0, code under MIT license (c)2014 L.A. Barba, G.F. Forsyth."
     ]
    },
    {
     "cell_type": "heading",
     "level": 1,
     "metadata": {},
     "source": [
      "Coding Assignment: Rocket"
     ]
    },
    {
     "cell_type": "markdown",
     "metadata": {},
     "source": [
      "The equations of motion for a rocket in purely vertical flight are given by\n",
      "\n",
      "\\begin{align}\n",
      "\\frac{dh}{dt} &= v\\\\\n",
      "(m_s+m_p) \\frac{dv}{dt}& = -(m_s+m_p)g + \\dot{m}_pv_e - \\frac{1}{2}\\rho v|v|AC_D\n",
      "\\end{align}\n",
      "\n",
      "$h$ is the altitude of the rocket\n",
      "\n",
      "$m_s = 50kg$ is the weight of the rocket shell\n",
      "\n",
      "$g = 9.81 \\frac{m}{s^2}$\n",
      "\n",
      "$\\rho = 1.091 \\frac{kg}{m^3}$ is the average air density (assumed constant throughout flight)\n",
      "\n",
      "$A = \\pi r^2$ is the maximum cross sectional area of the rocket, where $r = 0.5 m$\n",
      "\n",
      "$v_e = 325 \\frac{m}{s}$ is the exhaust speed\n",
      "\n",
      "$C_D = 0.15 $ is the drag coefficient\n",
      "\n",
      "$m_{po} = 100 kg$ at time $t = 0$ is the initial weight of the rocket propellant\n",
      "\n",
      "The mass of the remaining propellant is given by:\n",
      "\n",
      "$$m_p = m_{po} - \\int^t_0 \\dot{m}_p d\\tau$$\n",
      "\n",
      "where $\\dot{m}_p$ is the time-varying burn rate given by the following figure:\n",
      "\n",
      "Propellant Burn Rate\n",
      "\n",
      "![burn rate](./burn.rate.png)\n",
      "\n",
      "Using Euler's method with a timestep of $\\Delta t=0.1s$, create a Python script to calculate the altitude and velocity of the rocket from launch until crash down.  \n",
      "\n",
      "\n",
      "\n",
      "\n"
     ]
    },
    {
     "cell_type": "markdown",
     "metadata": {},
     "source": [
      "##Assessment:\n",
      "\n",
      "To check your answers, you can register for [MAE 6286: Practical Numerical Methods with Python](http://openedx.seas.gwu.edu/courses/GW/MAE6286/2014_fall/about).\n",
      "\n",
      "1. At time $t=3.2s$, what is the mass (in kg) of rocket propellant remaining in the rocket?\n",
      "\n",
      "2. What is the maximum speed of the rocket in $\\frac{m}{s}$?\n",
      "    At what time does this occur (in seconds)? \n",
      "    What is the altitude at this time (in meters)? \n",
      "    \n",
      "3. What is the rocket's maximum altitude during flight (in meters)? At what time (in seconds) does this occur?\n",
      "\n",
      "4. At what time (in seconds) does the rocket impact the ground? What is the velocity of the rocket (in $\\frac{m}{s}$) at time of impact?"
     ]
    },
    {
     "cell_type": "markdown",
     "metadata": {},
     "source": [
      "##Derivation of the rocket equations\n",
      "\n",
      "In case you are kind of confused about the rocket equations, here we show how to get to them. \n",
      "\n",
      "We will start from the widely used [Reynolds' transport theorem](http://en.wikipedia.org/wiki/Reynolds_transport_theorem). For an extensive property $N$ in a volume $\\Omega$, with corresponding intensive property $\\eta = N/m$, the Reynolds' transport theorem reads\n",
      "\n",
      "$$\n",
      "\\frac{DN}{Dt} =  \\frac{\\partial}{\\partial t} \\int_\\Omega \\eta \\rho {\\rm dV}  + \\oint_{\\partial \\Omega} \\eta \\rho \\mathbf{V} \\cdot \\mathbf{n} {\\rm d} S\n",
      "$$\n",
      "\n",
      "where $m$ is mass, dV is an element of volume, $\\mathbf{V}$ the velocity, $\\mathbf{n}$ the unit normal vector pointing out of the control volume and $\\rho$ density. We will use a control volume that encloses the rocket, and moves with it. If the velocity of the control volume is $\\mathbf{V}_{\\rm CV}$, we can write the velocity as $\\mathbf{V} = \\mathbf{V}_{\\rm CV} + \\mathbf{V}^\\prime$, and the Reynolds' transport theorem becomes\n",
      "\n",
      "$$\n",
      "\\frac{DN}{Dt} =  \\frac{\\partial}{\\partial t} \\int_\\Omega \\eta \\rho {\\rm dV}  + \\oint_{\\partial \\Omega} \\eta \\rho \\mathbf{V}_{\\rm CV} \\cdot \\mathbf{n} {\\rm d} S + \\oint_{\\partial \\Omega} \\eta \\rho \\mathbf{V}^\\prime \\cdot \\mathbf{n} {\\rm d} S.\n",
      "$$\n",
      "\n",
      "The second term in the right hand side of this equation can be rewritten using the divergence theorem\n",
      "\n",
      "$$\n",
      "\\oint_{\\partial \\Omega} \\eta \\rho \\mathbf{V}_{\\rm CV} \\cdot \\mathbf{n} {\\rm d} S = \\int_{\\Omega} \\eta \\rho \\nabla \\cdot \\mathbf{V}_{\\rm CV} {\\rm dV},\n",
      "$$\n",
      "\n",
      "but for a non-deforming control volume, $\\nabla \\cdot \\mathbf{V}_{\\rm CV} = 0$, yielding\n",
      "\n",
      "$$\n",
      "\\frac{DN}{Dt} =  \\frac{\\partial}{\\partial t} \\int_\\Omega \\eta \\rho {\\rm dV}  + \\oint_{\\partial \\Omega} \\eta \\rho \\mathbf{V}^\\prime \\cdot \\mathbf{n} {\\rm d} S.\n",
      "$$  \n",
      "\n",
      "Replacing $N = m \\mathbf{V}^\\prime$, we get the momentum conservation equation with a moving non-deforming control volume:\n",
      "\n",
      "$$\n",
      "\\frac{D(m\\mathbf{V}^\\prime)}{Dt} =  \\frac{\\partial}{\\partial t} \\int_\\Omega \\mathbf{V}^\\prime \\rho {\\rm dV}  + \\oint_{\\partial \\Omega} \\mathbf{V}^\\prime \\rho (\\mathbf{V}^\\prime \\cdot \\mathbf{n}) {\\rm d} S.\n",
      "$$  \n",
      "\n",
      "For non-accelerating control volume, we can apply Newton's second law to compute the forces: \n",
      "\n",
      "$$\n",
      "\\frac{D(m\\mathbf{V}^\\prime)}{Dt} = \\frac{D(m\\mathbf{V})}{Dt} =  \\frac{D\\mathbf{p}}{Dt} = \\sum \\mathbf{F}.\n",
      "$$ \n",
      "\n",
      "However, in this case the control volume is moving with the accelerating rocket, and we need to be a bit more careful. We can write $\\frac{D(m\\mathbf{V}^\\prime)}{Dt} = \\frac{D(m\\mathbf{V})}{Dt} - \\frac{D(m\\mathbf{V}_{\\rm CV})}{Dt}$, and considering the control volume is not deforming, $\\frac{D(m\\mathbf{V}_{\\rm CV})}{Dt} = m\\mathbf{a}_{\\rm CV}$, where $\\mathbf{a}_{\\rm CV}$ is the acceleration of the control volume. On the other hand, $\\mathbf{V}$ is taken from an inertial (non-accelerating) frame of reference, and Newton's second law is valid there, then\n",
      "\n",
      "$$\n",
      "\\frac{D(m\\mathbf{V}^\\prime)}{Dt} = \\frac{D(m\\mathbf{V})}{Dt} - \\frac{D(m\\mathbf{V}_{\\rm CV})}{Dt} = \\sum \\mathbf{F} - m \\mathbf{a}_{\\rm CV}.\n",
      "$$\n",
      "\n",
      "This way we get a momentum equation for an accelerating control volume:\n",
      "\n",
      "$$\n",
      "\\sum \\mathbf{F} - m \\mathbf{a}_{\\rm CV} =  \\frac{\\partial}{\\partial t} \\int_\\Omega \\mathbf{V}^\\prime \\rho {\\rm dV}  + \\oint_{\\partial \\Omega} \\mathbf{V}^\\prime \\rho (\\mathbf{V}^\\prime \\cdot \\mathbf{n}) {\\rm d} S.\n",
      "$$\n",
      "\n",
      "Let's examine this last equation to make it specific for the rocket problem. First, the rocket is subject to two forces: gravity and drag. This makes the sum of forces:\n",
      "\n",
      "$$\n",
      "\\sum \\mathbf{F} = (m_c + m_p) \\mathbf{g} - \\frac{1}{2} \\rho_a \\mathbf{v} |\\mathbf{v}| A  C_D.\n",
      "$$\n",
      "\n",
      "where $\\mathbf{v}$ is the velocity of the rocket, equal to the velocity of the control volume $\\mathbf{V}_{\\rm CV}$, and $\\rho_a$ is the density of air.\n",
      "\n",
      "Now, let's deal with the volume integral. Check out Figure 1: the control volume encloses the whole rocket, and the border is slightly away from the nozzle. We can make a cut on the control volume to analyze it in two parts: the top part consisting of the container only, and the bottom part from the nozzle down. The top part is a large container that moves with the control volume, and the relative velocities of the propellant inside are negligible. In the bottom part, the fluid is moving quite fast, but the amount of fluid there is constant in time. These two considerations allow us to drop the volume integral.\n",
      "\n",
      "![Image](./figures/rocket_CV.png)\n",
      "####Figure 1. Control volume of the rocket.\n",
      "\n",
      "Done with the volume integral, now the surface integral. If we consider that the burnt propellant is coming out of the control volume with a constant velocity profile, we can rewrite the surface integral as\n",
      "\n",
      "$$\n",
      "\\oint_{\\partial \\Omega} \\mathbf{V}^\\prime \\rho_p (\\mathbf{V}^\\prime \\cdot \\mathbf{n}) {\\rm d} S = \\mathbf{V}^\\prime \\oint_{\\partial \\Omega} \\rho_p (\\mathbf{V}^\\prime \\cdot \\mathbf{n}) {\\rm d} S = \\mathbf{V}^\\prime \\dot{m}_p = \\mathbf{v}_e \\dot{m}_p,\n",
      "$$\n",
      "\n",
      "where $\\mathbf{v}_e$ is the exhaust velocity of the burnt propellant coming out of the nozzle with respect to the control volume, $\\rho_p$ is the density of the propellant, and $\\dot{m}_p$ is the mass flow rate of propellant. By saying that $\\rho = \\rho_p$ we are considering that the mass of air is negligible compared to the mass of propellant coming out of the nozzle.\n",
      "\n",
      "Finally, the momentum equation for the rocket is\n",
      "\n",
      "$$\n",
      "(m_c + m_p) \\mathbf{g} - \\frac{1}{2} \\rho_a \\mathbf{v} |\\mathbf{v}| A  C_D - (m_c + m_p)\\frac{{\\rm d} \\mathbf{v}}{{\\rm d}t} =  \\mathbf{v}_e \\dot{m}_p.\n",
      "$$\n",
      "\n",
      "In practical terms, we're only interested in the $y$ component. Vectors $\\mathbf{g}$ and $\\mathbf{v}_e$ are pointing down, which gives the scalar equation:\n",
      "\n",
      "$$\n",
      "-(m_c + m_p) g - \\frac{1}{2} \\rho_a v^2 A  C_D - (m_c + m_p)\\frac{{\\rm d} v}{{\\rm d}t} =  -v_e \\dot{m}_p.\n",
      "$$\n",
      "\n",
      "This is the equation you will work with for your assignment!\n"
     ]
    },
    {
     "cell_type": "code",
     "collapsed": false,
     "input": [
      "import numpy \n",
      "from matplotlib import pyplot\n",
      "from matplotlib import rcParams\n",
      "rcParams['font.family'] = 'serif'\n",
      "rcParams['font.size'] = 16\n",
      "%matplotlib inline"
     ],
     "language": "python",
     "metadata": {},
     "outputs": [],
     "prompt_number": 56
    },
    {
     "cell_type": "code",
     "collapsed": false,
     "input": [
      "def euler_step(u, f, dt):\n",
      "    \"\"\"Returns u_{n+1} of the Euler's method.\n",
      "    \n",
      "    Parameters\n",
      "    ----------\n",
      "    u : array of \n",
      "\t\tproblem variables.\n",
      "\tf: function of u\n",
      "    dt : float\n",
      "        time increment.\n",
      "        \n",
      "    Returns\n",
      "    -------\n",
      "    err : numpy array\n",
      "\t\tu_{n+1} of the Euler's method.\n",
      "    \"\"\"\n",
      "    return u + dt * f(u)"
     ],
     "language": "python",
     "metadata": {},
     "outputs": [],
     "prompt_number": 57
    },
    {
     "cell_type": "code",
     "collapsed": false,
     "input": [
      "# Tempo total e passo de tempo\n",
      "T = 100.0\n",
      "dt = 0.1"
     ],
     "language": "python",
     "metadata": {},
     "outputs": [],
     "prompt_number": 58
    },
    {
     "cell_type": "code",
     "collapsed": false,
     "input": [
      "# Calcula o numero de valores discretos de tempo. Soma 1 ao numero de \n",
      "# intervalos para ter o ponto na extremidade do intervalo. \n",
      "# Observar comando 'int'\n",
      "N = int(T/dt)+1\n",
      "\n",
      "# Na propria documentacao nao se recomenda usar numpy.arange para intervalos\n",
      "# de reais pois o final do intervalo e' aberto.\n",
      "t = numpy.linspace(0.0, T, N)"
     ],
     "language": "python",
     "metadata": {},
     "outputs": [],
     "prompt_number": 59
    },
    {
     "cell_type": "code",
     "collapsed": false,
     "input": [
      "ms  = 50.                # Rocket shell mass\n",
      "g   = 9.81               # gravity accel\n",
      "rho = 1.091              # average air density\n",
      "A   = numpy.pi * 0.5**2  # maximum cross sectional area\n",
      "ve  = 325.               # exhaust speed\n",
      "CD  = 0.15               # drag coeff\n",
      "mpo = 100                # initial mas off propelant\n",
      "dmp = 20                 # Propelant burn rate\n"
     ],
     "language": "python",
     "metadata": {},
     "outputs": [],
     "prompt_number": 60
    },
    {
     "cell_type": "code",
     "collapsed": false,
     "input": [
      "Tp = 5.                  # Total time of propelant burn\n",
      "Np = int(Tp/dt)          # Indice correspondente a Tp\n",
      "dotmp = numpy.zeros(N)   # Taxa de queima de comustivel no tempo\n",
      "dotmp[:Np] = dmp        \n"
     ],
     "language": "python",
     "metadata": {},
     "outputs": [],
     "prompt_number": 61
    },
    {
     "cell_type": "code",
     "collapsed": false,
     "input": [
      "pyplot.figure(figsize=(10,6))   #set plot size\n",
      "pyplot.ylim(0,25)             #y-axis plot limits\n",
      "pyplot.tick_params(axis='both', labelsize=14)\n",
      "pyplot.xlabel('$t$', fontsize=18) #x label\n",
      "pyplot.ylabel('$\\dot{m_p}$', fontsize=18) #y label\n",
      "pyplot.plot(t[:100],dotmp[:100], 'k-',lw=2); # observar este ';'"
     ],
     "language": "python",
     "metadata": {},
     "outputs": [
      {
       "metadata": {},
       "output_type": "pyout",
       "prompt_number": 62,
       "text": [
        "[<matplotlib.lines.Line2D at 0xc980860>]"
       ]
      },
      {
       "metadata": {},
       "output_type": "display_data",
       "png": "[encoded data removed]",
       "text": [
        "<matplotlib.figure.Figure at 0xbf8a828>"
       ]
      }
     ],
     "prompt_number": 62
    },
    {
     "cell_type": "code",
     "collapsed": false,
     "input": [
      "mp = numpy.zeros(N)        # Massa de combustivel no tempo\n",
      "for i in range(0, Np):\n",
      "    mp[i] = mpo-dmp*dt*i\n"
     ],
     "language": "python",
     "metadata": {},
     "outputs": [],
     "prompt_number": 63
    },
    {
     "cell_type": "code",
     "collapsed": false,
     "input": [
      "pyplot.figure(figsize=(10,6))   #set plot size\n",
      "pyplot.ylim(0,110)             #y-axis plot limits\n",
      "pyplot.tick_params(axis='both', labelsize=14)\n",
      "pyplot.xlabel('$t$', fontsize=18) #x label\n",
      "pyplot.ylabel('$m_p$', fontsize=18) #y label\n",
      "pyplot.plot(t[:100],mp[:100], 'k-',lw=2); # observar este ';'"
     ],
     "language": "python",
     "metadata": {},
     "outputs": [
      {
       "metadata": {},
       "output_type": "pyout",
       "prompt_number": 64,
       "text": [
        "[<matplotlib.lines.Line2D at 0xcb14b70>]"
       ]
      },
      {
       "metadata": {},
       "output_type": "display_data",
       "png": "[encoded data removed]",
       "text": [
        "<matplotlib.figure.Figure at 0xa3d64e0>"
       ]
      }
     ],
     "prompt_number": 64
    },
    {
     "cell_type": "code",
     "collapsed": false,
     "input": [
      "# Condicoes iniciais: repouso\n",
      "h0 = 0.  \n",
      "v0 = 0.  \n",
      "\n",
      "# Vetor de 2 posicoes para armazenar o estado na integracao temporal\n",
      "u    = numpy.empty((N, 2))\n",
      "u[0] = numpy.array([h0, v0])\n",
      "mpn  = mp[0]\n",
      "dmpn = dotmp[0]"
     ],
     "language": "python",
     "metadata": {},
     "outputs": [],
     "prompt_number": 71
    },
    {
     "cell_type": "code",
     "collapsed": false,
     "input": [
      "# Equacao do problema\n",
      "def f(u):\n",
      "    return numpy.array([u[1], -g + ve*dmpn/(ms+mpn) - 0.5*rho*u[1]*abs(u[1])*A*CD/(ms+mpn)])"
     ],
     "language": "python",
     "metadata": {},
     "outputs": [],
     "prompt_number": 72
    },
    {
     "cell_type": "code",
     "collapsed": false,
     "input": [
      "# time loop - Euler method\n",
      "for n in range(N-1):\n",
      "    mpn  = mp[n]\n",
      "    dmpn = dotmp[n]\n",
      "    u[n+1] = euler_step(u[n], f, dt)\n"
     ],
     "language": "python",
     "metadata": {},
     "outputs": [],
     "prompt_number": 78
    },
    {
     "cell_type": "code",
     "collapsed": false,
     "input": [
      "numpy.max(u[:,0])"
     ],
     "language": "python",
     "metadata": {},
     "outputs": [
      {
       "metadata": {},
       "output_type": "pyout",
       "prompt_number": 79,
       "text": [
        "1334.1829454303067"
       ]
      }
     ],
     "prompt_number": 79
    },
    {
     "cell_type": "code",
     "collapsed": false,
     "input": [
      "numpy.max(u[:,1])"
     ],
     "language": "python",
     "metadata": {},
     "outputs": [
      {
       "metadata": {},
       "output_type": "pyout",
       "prompt_number": 80,
       "text": [
        "232.10613341261791"
       ]
      }
     ],
     "prompt_number": 80
    },
    {
     "cell_type": "code",
     "collapsed": false,
     "input": [
      "numpy.min(u[:,1])"
     ],
     "language": "python",
     "metadata": {},
     "outputs": [
      {
       "metadata": {},
       "output_type": "pyout",
       "prompt_number": 82,
       "text": [
        "-87.363807639556356"
       ]
      }
     ],
     "prompt_number": 82
    },
    {
     "cell_type": "code",
     "collapsed": false,
     "input": [
      "pyplot.figure(figsize=(10,6))   #set plot size\n",
      "pyplot.ylim(0,1350)             #y-axis plot limits\n",
      "pyplot.tick_params(axis='both', labelsize=14)\n",
      "pyplot.xlabel('$t$', fontsize=18) #x label\n",
      "pyplot.ylabel('$h$', fontsize=18) #y label\n",
      "pyplot.plot(t,u[:,0], 'k-',lw=2);"
     ],
     "language": "python",
     "metadata": {},
     "outputs": [
      {
       "metadata": {},
       "output_type": "display_data",
       "png": "[encoded data removed]",
       "text": [
        "<matplotlib.figure.Figure at 0xc40ef60>"
       ]
      }
     ],
     "prompt_number": 81
    },
    {
     "cell_type": "code",
     "collapsed": false,
     "input": [
      "pyplot.figure(figsize=(10,6))   #set plot size\n",
      "pyplot.ylim(-100,240)             #y-axis plot limits\n",
      "pyplot.tick_params(axis='both', labelsize=14)\n",
      "pyplot.xlabel('$t$', fontsize=18) #x label\n",
      "pyplot.ylabel('$v$', fontsize=18) #y label\n",
      "pyplot.plot(t,u[:,1], 'k-',lw=2);"
     ],
     "language": "python",
     "metadata": {},
     "outputs": [
      {
       "metadata": {},
       "output_type": "display_data",
       "png": "[encoded data removed]",
       "text": [
        "<matplotlib.figure.Figure at 0xcb3fda0>"
       ]
      }
     ],
     "prompt_number": 83
    },
    {
     "cell_type": "code",
     "collapsed": false,
     "input": [
      "Tq1 = 3.2                  # Questao 1: Massa de propelente em 3.2s\n",
      "Nq1 = int(Tq1/dt)\n",
      "mp[Nq1]"
     ],
     "language": "python",
     "metadata": {},
     "outputs": [
      {
       "metadata": {},
       "output_type": "pyout",
       "prompt_number": 93,
       "text": [
        "36.0"
       ]
      }
     ],
     "prompt_number": 93
    },
    {
     "cell_type": "code",
     "collapsed": false,
     "input": [
      "numpy.max(u[:,1])          # Questao 2: Velocidade m\u00e1xima"
     ],
     "language": "python",
     "metadata": {},
     "outputs": [
      {
       "metadata": {},
       "output_type": "pyout",
       "prompt_number": 94,
       "text": [
        "232.10613341261791"
       ]
      }
     ],
     "prompt_number": 94
    },
    {
     "cell_type": "code",
     "collapsed": false,
     "input": [
      "#  Questao 3: instante de v max\n",
      "idx_max_vel = numpy.where(u[:,1]==numpy.max(u[:,1]))[0]\n",
      "if len(idx_max_vel)==0:\n",
      "    idx_mv = N-1\n",
      "    print ('Max vel not found!')\n",
      "else:\n",
      "    idx_mv = idx_max_vel[0]\n",
      "    \n",
      "t[idx_mv]"
     ],
     "language": "python",
     "metadata": {},
     "outputs": [
      {
       "metadata": {},
       "output_type": "pyout",
       "prompt_number": 96,
       "text": [
        "5.0"
       ]
      }
     ],
     "prompt_number": 96
    },
    {
     "cell_type": "code",
     "collapsed": false,
     "input": [
      "# Questao 4: altura de v max\n",
      "u[idx_mv,0]"
     ],
     "language": "python",
     "metadata": {},
     "outputs": [
      {
       "metadata": {},
       "output_type": "pyout",
       "prompt_number": 97,
       "text": [
        "523.52283429184763"
       ]
      }
     ],
     "prompt_number": 97
    },
    {
     "cell_type": "code",
     "collapsed": false,
     "input": [
      "# Questao 5: altura max\n",
      "numpy.max(u[:,0])"
     ],
     "language": "python",
     "metadata": {},
     "outputs": [
      {
       "metadata": {},
       "output_type": "pyout",
       "prompt_number": 98,
       "text": [
        "1334.1829454303067"
       ]
      }
     ],
     "prompt_number": 98
    },
    {
     "cell_type": "code",
     "collapsed": false,
     "input": [
      "#  Questao 6: instante de h max\n",
      "idx_max_h = numpy.where(u[:,0]==numpy.max(u[:,0]))[0]\n",
      "if len(idx_max_h)==0:\n",
      "    idx_mh = N-1\n",
      "    print ('Max h not found!')\n",
      "else:\n",
      "    idx_mh = idx_max_h[0]\n",
      "    \n",
      "t[idx_mh]"
     ],
     "language": "python",
     "metadata": {},
     "outputs": [
      {
       "metadata": {},
       "output_type": "pyout",
       "prompt_number": 100,
       "text": [
        "15.700000000000001"
       ]
      }
     ],
     "prompt_number": 100
    },
    {
     "cell_type": "code",
     "collapsed": false,
     "input": [
      "u[idx_mh,0]"
     ],
     "language": "python",
     "metadata": {},
     "outputs": [
      {
       "metadata": {},
       "output_type": "pyout",
       "prompt_number": 101,
       "text": [
        "1334.1829454303067"
       ]
      }
     ],
     "prompt_number": 101
    },
    {
     "cell_type": "code",
     "collapsed": false,
     "input": [
      "# Questao 7: instante que toda o solo\n",
      "# get the index of element of y where altitude becomes negative\n",
      "idx_negative_euler = numpy.where(u[:,0]<0.0)[0]\n",
      "if len(idx_negative_euler)==0:\n",
      "    idx_ground_euler = N-1\n",
      "    print ('Euler integration has not touched ground yet!')\n",
      "else:\n",
      "    idx_ground_euler = idx_negative_euler[0]\n",
      "    \n",
      "u[idx_ground_euler,0]\n"
     ],
     "language": "python",
     "metadata": {},
     "outputs": [
      {
       "metadata": {},
       "output_type": "pyout",
       "prompt_number": 90,
       "text": [
        "-2.4585813061592443"
       ]
      }
     ],
     "prompt_number": 90
    },
    {
     "cell_type": "code",
     "collapsed": false,
     "input": [
      "t[idx_ground_euler]"
     ],
     "language": "python",
     "metadata": {},
     "outputs": [
      {
       "metadata": {},
       "output_type": "pyout",
       "prompt_number": 102,
       "text": [
        "37.100000000000001"
       ]
      }
     ],
     "prompt_number": 102
    },
    {
     "cell_type": "code",
     "collapsed": false,
     "input": [
      "# Questao 8: Velocidade que toca o solo\n",
      "u[idx_ground_euler,1]"
     ],
     "language": "python",
     "metadata": {},
     "outputs": [
      {
       "metadata": {},
       "output_type": "pyout",
       "prompt_number": 103,
       "text": [
        "-86.006834983805916"
       ]
      }
     ],
     "prompt_number": 103
    },
    {
     "cell_type": "markdown",
     "metadata": {},
     "source": [
      "---\n",
      "\n",
      "######The cell below loads the style of the notebook."
     ]
    },
    {
     "cell_type": "code",
     "collapsed": false,
     "input": [
      "from IPython.core.display import HTML\n",
      "css_file = '../../styles/numericalmoocstyle.css'\n",
      "HTML(open(css_file, \"r\").read())"
     ],
     "language": "python",
     "metadata": {},
     "outputs": []
    }
   ],
   "metadata": {}
  }
 ]
}