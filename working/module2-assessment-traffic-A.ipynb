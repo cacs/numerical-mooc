{
 "cells": [
  {
   "cell_type": "markdown",
   "metadata": {},
   "source": [
    "# Traffic flow"
   ]
  },
  {
   "cell_type": "markdown",
   "metadata": {},
   "source": [
    "## Problem formulation\n",
    "* $V\\rightarrow$ speed of traffic\n",
    "* $\\rho\\rightarrow$ traffic density (number of cars per unity length)\n",
    "* $F\\rightarrow$ flow rate, cars per hour\n",
    "\\begin{eqnarray}\n",
    "\\rho\\rightarrow 0,V\\rightarrow V_\\text{max}\\\\\n",
    "\\rho\\rightarrow \\rho_\\text{max},V\\rightarrow 0\n",
    "\\end{eqnarray}\n",
    "One possible equation to describe this behavior is\n",
    "\\begin{equation}\n",
    "V=V_\\text{max}\\left(1−\\rho/\\rho_\\text{max}\\right)\n",
    "\\end{equation}\n",
    "If we describe the **traffic flux**, $F$ as\n",
    "\\begin{equation}\n",
    "F=V\\rho\n",
    "\\end{equation}\n",
    "then\n",
    "\\begin{equation}\n",
    "F=F(\\rho)=V(\\rho)\\rho=V_\\text{max}\\rho\\left(1−\\rho/\\rho_\\text{max}\\right)\n",
    "\\end{equation}\n",
    "Unsteady traffic flow can be modelled as the non-linear convection of car density, so we apply the non-linear convection equation with the **wave speed equal to** $\\partial F/\\partial \\rho$:\n",
    "\\begin{equation}\n",
    "\\frac{\\partial \\rho}{\\partial t}+\\frac{\\partial F}{\\partial \\rho}\\frac{\\partial \\rho}{\\partial x}=0\n",
    "\\end{equation}\n",
    "Applying the chain rule of calculus, this becomes\n",
    "\\begin{equation}\n",
    "\\frac{\\partial \\rho}{\\partial t}+\\frac{\\partial F}{\\partial x}=0\n",
    "\\end{equation}\n",
    "where $F$ is defined as above."
   ]
  },
  {
   "cell_type": "markdown",
   "metadata": {},
   "source": [
    "## Numerical formulation"
   ]
  },
  {
   "cell_type": "markdown",
   "metadata": {},
   "source": [
    "#### Wave speed\n",
    "\\begin{equation}\n",
    "c=\\frac{\\partial F}{\\partial \\rho}=V_\\text{max}\\left(1-\\frac{2\\rho}{\\rho_\\text{max}}\\right)\n",
    "\\end{equation}\n",
    "#### Backward difference in space\n",
    "\\begin{equation}\n",
    "\\frac{\\partial \\rho}{\\partial x}\\left(x_i,t^n\\right)\\approx \\frac{\\rho_i^n-\\rho_{i-1}^n}{\\Delta x}\n",
    "\\end{equation}\n",
    "#### Forward difference in time\n",
    "\\begin{equation}\n",
    "\\frac{\\partial \\rho}{\\partial t}\\left(x_i,t^n\\right)\\approx \\frac{\\rho_i^{n+1}-\\rho_i^n}{\\Delta t}\n",
    "\\end{equation}\n",
    "#### Discretized equation\n",
    "\\begin{equation}\n",
    "\\frac{\\rho_i^{n+1}-\\rho_i^n}{\\Delta t}+V_\\text{max}\\left(1-\\frac{2\\rho_i^n}{\\rho_\\text{max}}\\right)\\frac{\\rho_i^n-\\rho_{i-1}^n}{\\Delta x}=0\n",
    "\\end{equation}\n",
    "\\begin{equation}\n",
    "\\rho_i^{n+1}=\\rho_i^n-V_\\text{max}\\left(1-\\frac{2\\rho_i^n}{\\rho_\\text{max}}\\right)\\left(\\rho_i^n-\\rho_{i-1}^n\\right)\\frac{\\Delta t}{\\Delta x}\n",
    "\\end{equation}\n",
    "#### CFL condition\n",
    "What is the CFL condition for the above equation? I think the starting point is the following:\n",
    "\\begin{equation}\n",
    "1-V_\\text{max}\\left(1-\\frac{2\\rho_i^n}{\\rho_\\text{max}}\\right)\\frac{\\Delta t}{\\Delta x}\\geq 0\n",
    "\\end{equation}\n",
    "\n",
    "However, there are two problemas here:\n",
    "1. $\\rho >\\rho_\\text{max}/2\\rightarrow c<0$, that is, the wave speed becomes negative and a backward in space numerical scheme is not able the handle that. **Fortunately, the setup stated on the assessment does not touch that aspect.**\n",
    "2. If $\\rho \\leq\\rho_\\text{max}/2\\rightarrow c\\geq 0$ then\n",
    "\\begin{equation}\n",
    "\\sigma=\\max\\left[V_\\text{max}\\left(1-\\frac{2\\rho_i^n}{\\rho_\\text{max}}\\right)\\frac{\\Delta t}{\\Delta x}\\right]\\leq 1\n",
    "\\end{equation}\n",
    "which occurs when $\\rho_i^n=0.0$ and $\\Delta t$ can be adjusted accordingly to $\\Delta x$."
   ]
  },
  {
   "cell_type": "code",
   "execution_count": 1,
   "metadata": {
    "collapsed": true
   },
   "outputs": [],
   "source": [
    "import numpy       \n",
    "import math\n",
    "from matplotlib import pyplot                 \n",
    "%matplotlib inline\n",
    "from matplotlib import rcParams\n",
    "rcParams['font.family'] = 'serif'\n",
    "rcParams['font.size'] = 16"
   ]
  },
  {
   "cell_type": "code",
   "execution_count": 2,
   "metadata": {
    "collapsed": false
   },
   "outputs": [
    {
     "name": "stdout",
     "output_type": "stream",
     "text": [
      "dt =  0.001 .  50 time steps.\n"
     ]
    },
    {
     "data": {
      "text/plain": [
       "<matplotlib.text.Text at 0x75cfeb8>"
      ]
     },
     "execution_count": 2,
     "metadata": {},
     "output_type": "execute_result"
    },
    {
     "data": {
      "image/png": "[encoded data removed]",
      "text/plain": [
       "<matplotlib.figure.Figure at 0x7592be0>"
      ]
     },
     "metadata": {},
     "output_type": "display_data"
    }
   ],
   "source": [
    "# Divide o intervalo espacial em nx-1 segmentos.\n",
    "L      = 11   # km\n",
    "Vmax   = 80   # km/h\n",
    "rhomax = 250  # carros/km\n",
    "tt     = 0.05  # 3 min\n",
    "#tt     = 0.1   # 6 min\n",
    "\n",
    "nx = 51\n",
    "dt = .001     # h\n",
    "nt = int(math.floor(tt/dt))\n",
    "print(\"dt = \", dt, \". \", nt, \"time steps.\")\n",
    "dx = L/(nx-1)    \n",
    "x  = numpy.linspace(0,L,nx)\n",
    "rho = numpy.ones(nx)*10.\n",
    "rho[10:20] = 50.\n",
    "# Esta e´a maneira correta de fatiar o array. Indexar diretamente o array com formulas\n",
    "# deve garantir que o resultado sera sempre inteiro.\n",
    "#lbound = numpy.where(x >= 2.0) \n",
    "#ubound = numpy.where(x <= 4.0)\n",
    "#rho[numpy.intersect1d(lbound, ubound)]=50\n",
    "pyplot.plot(x, rho, color='#003366', ls='--', lw=3)\n",
    "pyplot.ylim(0,55);\n",
    "pyplot.title(\"Density at t = 0.0\", fontsize=18)"
   ]
  },
  {
   "cell_type": "code",
   "execution_count": 3,
   "metadata": {
    "collapsed": false
   },
   "outputs": [
    {
     "data": {
      "text/plain": [
       "<matplotlib.text.Text at 0x76b0550>"
      ]
     },
     "execution_count": 3,
     "metadata": {},
     "output_type": "execute_result"
    },
    {
     "data": {
      "image/png": "[encoded data removed]",
      "text/plain": [
       "<matplotlib.figure.Figure at 0x757dfd0>"
      ]
     },
     "metadata": {},
     "output_type": "display_data"
    }
   ],
   "source": [
    "V = numpy.ones(nx)\n",
    "V = Vmax*(1.-rho/rhomax)\n",
    "pyplot.plot(x, V, color='#003366', ls='--', lw=3)\n",
    "pyplot.ylim(0,85);\n",
    "pyplot.title(\"Velocity at t = 0.0\", fontsize=18)"
   ]
  },
  {
   "cell_type": "code",
   "execution_count": 4,
   "metadata": {
    "collapsed": false
   },
   "outputs": [
    {
     "name": "stdout",
     "output_type": "stream",
     "text": [
      "Max V = 76.80 km/h\n",
      "Min V = 64.00 km/h\n"
     ]
    }
   ],
   "source": [
    "print(\"Max V = %.2f km/h\" % numpy.amax(V))\n",
    "print(\"Min V = %.2f km/h\" % numpy.amin(V))"
   ]
  },
  {
   "cell_type": "code",
   "execution_count": 5,
   "metadata": {
    "collapsed": false
   },
   "outputs": [
    {
     "name": "stdout",
     "output_type": "stream",
     "text": [
      "Max V = 21.33 m/s\n",
      "Min V = 17.78 m/s\n"
     ]
    }
   ],
   "source": [
    "print(\"Max V = %.2f m/s\" % (numpy.amax(V)/3.6))\n",
    "print(\"Min V = %.2f m/s\" % (numpy.amin(V)/3.6))"
   ]
  },
  {
   "cell_type": "code",
   "execution_count": 6,
   "metadata": {
    "collapsed": true
   },
   "outputs": [],
   "source": [
    "rhon = numpy.ones(nx) # apenas para inicializar o array\n",
    "\n",
    "for n in range(nt):  \n",
    "    rhon = rho.copy() \n",
    "    rho[1:] = rhon[1:] -Vmax*(1.-2.*rhon[1:]/rhomax)*dt/dx*(rhon[1:] -rhon[0:-1]) \n",
    "    rho[0]  = 10.0    # C.C. Observe que so e' necessaria do lado esquerdo."
   ]
  },
  {
   "cell_type": "code",
   "execution_count": 7,
   "metadata": {
    "collapsed": false
   },
   "outputs": [
    {
     "data": {
      "text/plain": [
       "<matplotlib.text.Text at 0x7924f98>"
      ]
     },
     "execution_count": 7,
     "metadata": {},
     "output_type": "execute_result"
    },
    {
     "data": {
      "image/png": "[encoded data removed]",
      "text/plain": [
       "<matplotlib.figure.Figure at 0x7593358>"
      ]
     },
     "metadata": {},
     "output_type": "display_data"
    }
   ],
   "source": [
    "pyplot.plot(x, rho, color='#003366', ls='--', lw=3)\n",
    "pyplot.ylim(0,55);\n",
    "pyplot.title(\"Density at t = %f\" %tt, fontsize=18)"
   ]
  },
  {
   "cell_type": "code",
   "execution_count": 8,
   "metadata": {
    "collapsed": false
   },
   "outputs": [
    {
     "data": {
      "text/plain": [
       "<matplotlib.text.Text at 0x7b796a0>"
      ]
     },
     "execution_count": 8,
     "metadata": {},
     "output_type": "execute_result"
    },
    {
     "data": {
      "image/png": "[encoded data removed]",
      "text/plain": [
       "<matplotlib.figure.Figure at 0x791f048>"
      ]
     },
     "metadata": {},
     "output_type": "display_data"
    }
   ],
   "source": [
    "V = Vmax*(1.-rho/rhomax)\n",
    "pyplot.plot(x, V, color='#003366', ls='--', lw=3)\n",
    "pyplot.ylim(0,85);\n",
    "pyplot.title(\"Velocity at t = %f\" %tt, fontsize=18)"
   ]
  },
  {
   "cell_type": "code",
   "execution_count": 9,
   "metadata": {
    "collapsed": false
   },
   "outputs": [
    {
     "name": "stdout",
     "output_type": "stream",
     "text": [
      "Max V = 76.80 km/h\n",
      "Min V = 65.07 km/h\n",
      "Ave V = 74.02 km/h\n"
     ]
    }
   ],
   "source": [
    "print(\"Max V = %.2f km/h\" % numpy.amax(V))\n",
    "print(\"Min V = %.2f km/h\" % numpy.amin(V))\n",
    "print(\"Ave V = %.2f km/h\" % numpy.average(V))"
   ]
  },
  {
   "cell_type": "code",
   "execution_count": 10,
   "metadata": {
    "collapsed": false
   },
   "outputs": [
    {
     "name": "stdout",
     "output_type": "stream",
     "text": [
      "Max V = 21.33 m/s\n",
      "Min V = 18.07 m/s\n",
      "Ave V = 20.56 m/s\n"
     ]
    }
   ],
   "source": [
    "print(\"Max V = %.2f m/s\" % (numpy.amax(V)/3.6))\n",
    "print(\"Min V = %.2f m/s\" % (numpy.amin(V)/3.6))\n",
    "print(\"Ave V = %.2f m/s\" % (numpy.average(V)/3.6))"
   ]
  },
  {
   "cell_type": "code",
   "execution_count": 11,
   "metadata": {
    "collapsed": false
   },
   "outputs": [
    {
     "data": {
      "text/plain": [
       "<matplotlib.text.Text at 0x8000e48>"
      ]
     },
     "execution_count": 11,
     "metadata": {},
     "output_type": "execute_result"
    },
    {
     "data": {
      "image/png": "[encoded data removed]",
      "text/plain": [
       "<matplotlib.figure.Figure at 0x7b689b0>"
      ]
     },
     "metadata": {},
     "output_type": "display_data"
    }
   ],
   "source": [
    "for n in range(nt):  \n",
    "    rhon = rho.copy() \n",
    "    rho[1:] = rhon[1:] -Vmax*(1.-2.*rhon[1:]/rhomax)*dt/dx*(rhon[1:] -rhon[0:-1]) \n",
    "    rho[0]  = 10.0    # C.C. Observe que so e' necessaria do lado esquerdo.\n",
    "pyplot.plot(x, rho, color='#003366', ls='--', lw=3)\n",
    "pyplot.ylim(0,55);\n",
    "pyplot.title(\"Density at t = %f h\" %(2*tt), fontsize=18)"
   ]
  },
  {
   "cell_type": "code",
   "execution_count": 12,
   "metadata": {
    "collapsed": false
   },
   "outputs": [
    {
     "data": {
      "text/plain": [
       "<matplotlib.text.Text at 0x805abe0>"
      ]
     },
     "execution_count": 12,
     "metadata": {},
     "output_type": "execute_result"
    },
    {
     "data": {
      "image/png": "[encoded data removed]",
      "text/plain": [
       "<matplotlib.figure.Figure at 0x76a82b0>"
      ]
     },
     "metadata": {},
     "output_type": "display_data"
    }
   ],
   "source": [
    "V = Vmax*(1.-rho/rhomax)\n",
    "pyplot.plot(x, V, color='#003366', ls='--', lw=3)\n",
    "pyplot.ylim(0,85);\n",
    "pyplot.title(\"Velocity at t = %f h\" %(2*tt), fontsize=18)"
   ]
  },
  {
   "cell_type": "code",
   "execution_count": 13,
   "metadata": {
    "collapsed": false
   },
   "outputs": [
    {
     "name": "stdout",
     "output_type": "stream",
     "text": [
      "Max V = 21.33 m/s\n",
      "Min V = 18.58 m/s\n",
      "Ave V = 20.65 m/s\n"
     ]
    }
   ],
   "source": [
    "print(\"Max V = %.2f m/s\" % (numpy.amax(V)/3.6))\n",
    "print(\"Min V = %.2f m/s\" % (numpy.amin(V)/3.6))\n",
    "print(\"Ave V = %.2f m/s\" % (numpy.average(V)/3.6))"
   ]
  },
  {
   "cell_type": "code",
   "execution_count": null,
   "metadata": {
    "collapsed": true
   },
   "outputs": [],
   "source": []
  }
 ],
 "metadata": {
  "kernelspec": {
   "display_name": "Python 3",
   "language": "python",
   "name": "python3"
  },
  "language_info": {
   "codemirror_mode": {
    "name": "ipython",
    "version": 3
   },
   "file_extension": ".py",
   "mimetype": "text/x-python",
   "name": "python",
   "nbconvert_exporter": "python",
   "pygments_lexer": "ipython3",
   "version": "3.4.3"
  }
 },
 "nbformat": 4,
 "nbformat_minor": 0
}
