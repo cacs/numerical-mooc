{
 "cells": [
  {
   "cell_type": "markdown",
   "metadata": {},
   "source": [
    "# Introdução à Integração Temporal Implícita"
   ]
  },
  {
   "cell_type": "markdown",
   "metadata": {},
   "source": [
    "## Idéia Geral"
   ]
  },
  {
   "cell_type": "markdown",
   "metadata": {},
   "source": [
    "Considere uma equação diferencial em termos do tempo $t$ e do espaço $x$ como\n",
    "\\begin{equation}\n",
    "\\frac{\\partial u}{\\partial t}+\\nabla\\cdot f(u)=g\\left(t,u\\right)\n",
    "\\end{equation}\n",
    "\n",
    "Aplicando algum método de discretização espacial (FDM, FVM, FEM, ...), essa equação pode ser colocada na forma\n",
    "\\begin{equation}\n",
    "\\frac{\\partial u}{\\partial t}=R\\left[u\\left(t\\right)\\right]\n",
    "\\end{equation}\n",
    "\n",
    "Aplicando diferenças finitas à frente no tempo, tem-se um **método explícito** (*Euler explícito*, *forward Euler*)\n",
    "\\begin{equation}\n",
    "\\frac{\\partial u}{\\partial t}=R\\left[u\\left(t\\right)\\right]\\rightarrow \n",
    "\\frac{u^{n+1}-u^n}{\\Delta t}=R\\left[u^n\\right]\\Rightarrow\n",
    "u^{n+1}=u^n+\\Delta t R\\left(u^n\\right)\n",
    "\\end{equation}\n",
    "Ou seja, tem-se uma expressão\n",
    "\\begin{equation}\n",
    "\\mathbf{Y}\\left(t+\\Delta t\\right)=\\mathbf{H}\\left[\\mathbf{Y}\\left(t\\right)\\right]\n",
    "\\end{equation}\n",
    "onde se calcula o estado em tempo posterior a partir do estado no tempo atual.\n",
    "\n",
    "Por outro lado, aplicando diferenças finitas para trás no tempo, \n",
    "\\begin{equation}\n",
    "\\frac{\\partial u}{\\partial t}=R\\left[u\\left(t\\right)\\right]\\rightarrow \n",
    "\\frac{u^{n+1}-u^n}{\\Delta t}=R\\left[u^{n+1}\\right]\\Rightarrow\n",
    "u^{n+1}-u^n-\\Delta t R\\left(u^{n+1}\\right)=0\n",
    "\\end{equation}\n",
    "que é uma equação não-linear em $u^{n+1}$ no formato\n",
    "\\begin{equation}\n",
    "\\mathbf{G}\\left[\\mathbf{Y}\\left(t\\right), \\mathbf{Y}\\left(t+\\Delta t\\right)\\right]=\\mathbf{0}\n",
    "\\end{equation}\n",
    "que caracteriza um **método implícito** de integração (nesse caso, *Euler implícito*, *backward Euler*, BDF1).\n",
    "\n",
    "Para resolver a equação não-linear decorrente da aplicação de um método implícito, pode-se aplicar o método de Newton-Raphson\n",
    "\\begin{equation}\n",
    "f(x)\\approx f\\left(x_0\\right)+\\frac{df}{dx}\\left(x_0\\right)\\Delta x=0\\rightarrow \\frac{df}{dx}\\left(x_k\\right)\\Delta x=-f\\left(x_k\\right),\\; x_{k+1}=x_k+\\Delta x,\\;\\text{até que } \\|\\Delta x\\|<\\epsilon\n",
    "\\end{equation}"
   ]
  },
  {
   "cell_type": "markdown",
   "metadata": {},
   "source": [
    "## Método Implícito para Solução de Equação Diferencial Parcial"
   ]
  },
  {
   "cell_type": "markdown",
   "metadata": {},
   "source": [
    "Aplicando o método de Newton-Raphson à equação do método implícito, temos para cada $\\Delta t$ (*fully implicit backward Euler*):\n",
    "\\begin{align}\n",
    "&\\left[\\frac{1}{\\Delta t}\\mathbf{I}-\\nabla_u R\\left(u^{n+1}_k\\right)\\right]\\Delta u_{k+1} = \n",
    "-\\left[\\frac{1}{\\Delta t}\\left(u^{n+1}_k-u^n\\right)-R\\left(u^{n+1}_k\\right)\\right], \\\\\n",
    "&\\\\\n",
    "&u^{n+1}_{k+1}=u^{n+1}_k+\\Delta u_{k+1},\\;\\text{até que } \\|\\Delta u_{k+1}\\|<\\epsilon,\\;u^{n+1}_{k=0}=u^n\n",
    "\\end{align}\n",
    "\n",
    "Esse enunciado completo é a base para diversas simplificações introduzidas para lidar com o esforço computacional necessário para aplicar esse método a problemas de de grandes dimensões. Essas diversas simplificações são denominadas genericamente de métodos *semi-implícitos* (que não são objeto desta aula). Um exemplo é o *linearized fully implicit backward Euler* que consistem em aplicar uma linearização de primeira ordem à $R\\left(u^{n+1}\\right)$ em torno de $u^n$:\n",
    "\\begin{align}\n",
    "&u^{n+1}-u^n-\\Delta t R\\left(u^{n+1}\\right)=0\\\\\n",
    "&u^{n+1}-u^n-\\Delta t\\left[R\\left(u^n\\right)+\\nabla_u R\\left(u^n\\right)\\left(u^{n+1}-u^n\\right)\\right]=0\n",
    "\\end{align}\n",
    "que resulta no seguinte enunciado executado apenas uma vez por $\\Delta t$\n",
    "\\begin{equation}\n",
    "\\left[\\frac{1}{\\Delta t}\\mathbf{I}-\\nabla_u R\\left(u^n\\right)\\right]\\Delta u = \n",
    "R\\left(u^n\\right)\n",
    "\\end{equation}\n",
    "Esse enunciado pode também ser obtido do enunciado original, desconsiderando a execução iterativa em $k$.\n"
   ]
  },
  {
   "cell_type": "markdown",
   "metadata": {},
   "source": [
    "## Por que usar?"
   ]
  },
  {
   "cell_type": "markdown",
   "metadata": {},
   "source": [
    "1. Para determinados problemas, os métodos explícitos exigem valores de $\\Delta t$ impraticavelmente pequenos para manter a estabilidade numérica limitados pelo valor do CFL do problema. Como s métodos implícitos não são sofrem essa limitação do valor do CFL, para esses problemas é mais barato usar métodos implícitos com passos de tempo grandes do que métodos explícitos com os passos de tempo pequenos decorrentes da limitação de CFL.\n",
    "  * Conveção linear\n",
    "  \\begin{equation}\n",
    "  \\sigma=c\\frac{\\Delta t}{\\Delta x}\\leq 1\n",
    "  \\end{equation}\n",
    "  * Difusão\n",
    "  \\begin{equation}\n",
    "  \\sigma=\\nu\\frac{\\Delta t}{\\Delta x^2}\\leq \\frac{1}{2}\n",
    "  \\end{equation}\n",
    "1. E muitos casos de interesse busca-se determinar a solução em **regime permanente**."
   ]
  },
  {
   "cell_type": "markdown",
   "metadata": {},
   "source": [
    "## Exemplos"
   ]
  },
  {
   "cell_type": "markdown",
   "metadata": {
    "collapsed": true
   },
   "source": [
    "### Convecção linear com backward FDM\n",
    "\\begin{equation}\n",
    "\\frac{\\partial u}{\\partial t}=R\\left[u\\left(t\\right)\\right]=-\\frac{c}{\\Delta x}\\left(u_i-u_{i-1}\\right)\n",
    "\\end{equation}\n",
    "### Convecção não-linear com backward FDM\n",
    "\\begin{equation}\n",
    "\\frac{\\partial u}{\\partial t}=R\\left[u\\left(t\\right)\\right]=-\\frac{u_i}{\\Delta x}\\left(u_i-u_{i-1}\\right)\n",
    "\\end{equation}\n",
    "### Difusão com backward FDM\n",
    "\\begin{equation}\n",
    "\\frac{\\partial u}{\\partial t}=R\\left[u\\left(t\\right)\\right]=\\frac{\\nu}{\\Delta x^2}\\left(u_{i+1}-2u_i+u_{i-1}\\right)\n",
    "\\end{equation}\n",
    "### Burguers com backward FDM\n",
    "\\begin{equation}\n",
    "\\frac{\\partial u}{\\partial t}=R\\left[u\\left(t\\right)\\right]=-\\frac{u_i}{\\Delta x}\\left(u_i-u_{i-1}\\right)\n",
    "+\\frac{\\nu}{\\Delta x^2}\\left(u_{i+1}-2u_i+u_{i-1}\\right)\n",
    "\\end{equation}\n",
    "### Lei de conservação com backward FDM\n",
    "\\begin{equation}\n",
    "\\frac{\\partial u}{\\partial t}=R\\left[u\\left(t\\right)\\right]=-\\frac{1}{\\Delta x}\\left[F\\left(u_i\\right)-F\\left(u_{i-1}\\right)\\right]\n",
    "\\end{equation}\n",
    "### Lei de conservação com FVM\n",
    "\\begin{equation}\n",
    "\\frac{\\partial u}{\\partial t}=R\\left[u\\left(t\\right)\\right]=-\\frac{1}{\\Delta x}\\left[\\tilde{F}_{i+1/2}-\\tilde{F}_{i-1/2}\\right]\n",
    "\\end{equation}"
   ]
  },
  {
   "cell_type": "code",
   "execution_count": null,
   "metadata": {
    "collapsed": true
   },
   "outputs": [],
   "source": []
  }
 ],
 "metadata": {
  "kernelspec": {
   "display_name": "Python 3",
   "language": "python",
   "name": "python3"
  },
  "language_info": {
   "codemirror_mode": {
    "name": "ipython",
    "version": 3
   },
   "file_extension": ".py",
   "mimetype": "text/x-python",
   "name": "python",
   "nbconvert_exporter": "python",
   "pygments_lexer": "ipython3",
   "version": "3.4.3"
  }
 },
 "nbformat": 4,
 "nbformat_minor": 0
}
